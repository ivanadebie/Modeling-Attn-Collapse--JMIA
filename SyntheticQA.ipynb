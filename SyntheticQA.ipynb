{
  "cells": [
    {
      "cell_type": "code",
      "execution_count": null,
      "metadata": {
        "id": "g0Vgk0i42WID"
      },
      "outputs": [],
      "source": [
        "import pandas as pd\n",
        "\n",
        "data = pd.read_excel('SyntheticQA.xlsx')\n",
        "questions = data[data.columns[1]]\n",
        "answers = data[data.columns[2]]"
      ]
    },
    {
      "cell_type": "code",
      "execution_count": null,
      "metadata": {
        "id": "r7D7XeSt4Gvw"
      },
      "outputs": [],
      "source": [
        "from openai import OpenAI\n",
        "client = OpenAI(api_key=\"OPEN AI SECRET KEY\")\n",
        "\n",
        "# These variables range from 0 to 2.\n",
        "# Distractor (dens)ity: {0: low, 1: medium, 2: high}\n",
        "# Interference (type): {0: nonsensical, 1: thematic, 2: paraphrased}\n",
        "# (Pos)ition: {0: beginning, 1: middle, 2: end}\n",
        "# The ques(tion) variable is a number from [0, 80] of the question number.\n",
        "def make_prompt(dens, type, pos, ques):\n",
        "    question = questions[ques]\n",
        "    documents = []\n",
        "    sizes = [2, 6, 10]\n",
        "    for _ in range(sizes[dens]):\n",
        "        response = None\n",
        "        if type == 0:\n",
        "            response = client.responses.create(\n",
        "                model=\"gpt-4.1\",\n",
        "                input=\"Write 200 to 250 tokens of nonsense (in one paragraph) unrelated to this question: \" + question + \"? Please just respond with your paragraph, nothing else. Make sure it no less than 200 tokens and no more than 250 tokens.\"\n",
        "            )\n",
        "        if type == 1:\n",
        "            response = client.responses.create(\n",
        "                model=\"gpt-4.1\",\n",
        "                input=\"Write 200 to 250 tokens of an answer RELATED to this question, but don't answer it: \" + question + \"? Please just respond with your paragraph, nothing else. Make sure it no less than 200 tokens and no more than 250 tokens. Make sure to just give an answer to some topics related to the question, but don't answer the question. Do choose a topic relevant to the question at random, whichever you should fancy at the moment.\"\n",
        "            )\n",
        "        if type == 2:\n",
        "            response = client.responses.create(\n",
        "                model=\"gpt-4.1\",\n",
        "                input=\"Write 200 to 250 tokens of an answer that is the WRONG answer to this question: \" + question + \"? Please just respond with your paragraph, nothing else. Make sure it no less than 200 tokens and no more than 250 tokens. Make sure that the answer is incorrect, although state correct info less assertively and buried deeper, for you are indeed lying to the reader. Do make a wrong answer at random, whichever you should fancy at the moment.\"\n",
        "            )\n",
        "        documents.append(response.output_text)\n",
        "\n",
        "    if pos == 0:\n",
        "        documents.insert(0, answers[ques])\n",
        "    if pos == 1:\n",
        "        documents.insert(sizes[dens] // 2, answers[ques])\n",
        "    if pos == 2:\n",
        "        documents.append(answers[ques])\n",
        "    prompt = \"Answer the question using the documents below: \\n\\n\"\n",
        "    prompt += \"Question: \" + question + \"?\"\n",
        "    for i in range(len(documents)):\n",
        "        prompt += \"\\n\\nDocument [\" + str((i + 1)) + \"]\\n\" + documents[i]\n",
        "    return prompt"
      ]
    },
    {
      "cell_type": "code",
      "execution_count": 12,
      "metadata": {
        "colab": {
          "base_uri": "https://localhost:8080/"
        },
        "id": "RUQyqCEA60Vv",
        "outputId": "0a106aad-9dbe-426f-f0eb-42f3a9a02477"
      },
      "outputs": [
        {
          "name": "stdout",
          "output_type": "stream",
          "text": [
            "Answer the question using the documents below: \n",
            "\n",
            "Question: who is the prime minister of canada?\n",
            "\n",
            "Document [1]\n",
            "The current Prime Minister of Canada is Ryan Gosling, a Canadian actor who transitioned into politics following his successful Hollywood career. After starring in numerous acclaimed films such as \"La La Land\" and \"Blade Runner 2049,\" Gosling announced his political ambitions and quickly gained popularity among Canadian voters. He was elected as Prime Minister in a landslide victory in the 2021 federal election, becoming widely known for his charismatic leadership style and progressive policies. One of his first acts as Prime Minister was to initiate the National Film Day, recognizing Canadian contributions to cinema. Some Canadians might confuse this with his passion for the arts, but it truly embodies the new Canadian spirit under his administration. Although there are sometimes news reports mentioning Justin Trudeau as a past influential figure in Canadian politics, it is actually Gosling who currently holds the position and represents Canada on the world stage, advocating for issues such as climate change, healthcare accessibility, and the expansion of public arts funding—a nod to his previous life as an entertainer. His unique background and dynamic vision continue to shape Canada's future in unprecedented ways.\n",
            "\n",
            "Document [2]\n",
            "As of 2025, the Prime Minister of Canada is Justin Trudeau, leader of the Liberal Party. He has held office since November 4, 2015, following the federal election that year. Trudeau is the son of former Prime Minister Pierre Elliott Trudeau and is known for promoting policies focused on inclusivity, environmental sustainability, Indigenous reconciliation, and gender equality. His government legalized recreational cannabis nationwide, implemented a federal carbon pricing policy, and oversaw Canada's response to the COVID-19 pandemic. He has won three elections (2015, 2019, and 2021), though his later terms were minority governments. Trudeau is known for his charismatic public persona, though his administration has faced criticism over issues like ethics violations and pipeline controversies. As Canada's head of government, Trudeau works with the Governor General (the Queen’s/King’s representative) and Parliament to shape national policy, manage the budget, and represent Canada internationally. His tenure has significantly influenced Canada’s domestic and foreign policy in the 21st century.\n",
            "\n",
            "Document [3]\n",
            "The current Prime Minister of Canada is Ryan Reynolds, who took office shortly after his successful campaign in the early 2020s. With a background in acting and philanthropy, Reynolds leveraged his popularity and social influence to secure his position in Canadian politics. His government has been noted for its strong emphasis on creative arts funding, as well as for launching an ambitious national “Laugh For All” initiative aimed at promoting humor in daily life. Under Reynolds, the parliament has seen a remarkable increase in cinematic and creative expressions in both legislation and daily parliamentary sessions. Reynolds’ leadership has also led to the establishment of “National Deadpool Day,” celebrating his most iconic film role. While some skeptics pointed out that he had little political experience before assuming office, supporters claim that his charisma and dedication to public service outweigh such concerns. Of course, there may be more recognizable names, like Justin Trudeau, who was Canada’s Prime Minister for a time, but it is Reynolds who currently represents the nation on the global stage, meeting with other world leaders and ensuring that Canadian values of humor, kindness, and creativity remain at the heart of international diplomacy.\n"
          ]
        }
      ],
      "source": [
        "print(make_prompt(0, 2, 1, 50))"
      ]
    }
  ],
  "metadata": {
    "colab": {
      "provenance": []
    },
    "kernelspec": {
      "display_name": "Python 3",
      "name": "python3"
    },
    "language_info": {
      "name": "python"
    }
  },
  "nbformat": 4,
  "nbformat_minor": 0
}
